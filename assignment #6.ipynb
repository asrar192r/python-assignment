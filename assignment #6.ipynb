{
 "cells": [
  {
   "cell_type": "markdown",
   "metadata": {},
   "source": [
    "object oriented programming is a platform or technique where provide objects and classes,in object oriented we create the objects of class we reuse the code or protected from code complexity."
   ]
  },
  {
   "cell_type": "markdown",
   "metadata": {},
   "source": [
    "1.in Oop we create the class methods and calling through making objects.\n",
    "2.we reuse the code.\n",
    "3.we procted from code complexity."
   ]
  },
  {
   "cell_type": "markdown",
   "metadata": {},
   "source": [
    "there is no difference in function and method both are quit same but when we do the real world programming we call method not the function.."
   ]
  },
  {
   "cell_type": "markdown",
   "metadata": {},
   "source": [
    "A class is a group of objects have common properties.It is a template or blueprint from which objects are created."
   ]
  },
  {
   "cell_type": "markdown",
   "metadata": {},
   "source": [
    "An object is instance of class, and it is logical and physical entity"
   ]
  },
  {
   "cell_type": "markdown",
   "metadata": {},
   "source": [
    "The attributes are data members (class variables and instance variables) and methods, accessed via dot notation. Class variable \n",
    "A variable that is shared by all instances of a class. Class variables are defined within a class but outside any of the class's methods"
   ]
  },
  {
   "cell_type": "markdown",
   "metadata": {},
   "source": [
    "Python is an “object-oriented programming language.” This means that almost all the code is implemented using a special construct called classes. Programmers use classes to keep related things together. This is done using the keyword “class,” which is a grouping of object-oriented constructs."
   ]
  },
  {
   "cell_type": "code",
   "execution_count": 3,
   "metadata": {
    "scrolled": true
   },
   "outputs": [
    {
     "name": "stdout",
     "output_type": "stream",
     "text": [
      "honda civic\n",
      "red\n",
      "Honda\n",
      "1500000\n",
      "2019\n",
      "honda civic modified by method\n",
      "bugatti chiron modified by method\n",
      "300000000 modified by method\n"
     ]
    }
   ],
   "source": [
    "\n",
    "class Car():\n",
    "    def __init__(self,model,color,name,price,year):\n",
    "        self.model = model\n",
    "        self.color = color\n",
    "        self.name = name\n",
    "        self.price = price\n",
    "        self.year = year\n",
    "        \n",
    "    def newcar(self, Newname):\n",
    "        self.name = Newname\n",
    "        \n",
    "    def newcar2(self, Newmodel):\n",
    "        self.model = Newmodel\n",
    "        \n",
    "    def newcar3(self, Newprice):\n",
    "        self.price = Newprice\n",
    "        \n",
    "        \n",
    "new = Car(\"honda civic\", \"red\", \"Honda\", \"1500000\", \"2019\")\n",
    "print(new.model)\n",
    "print(new.color)\n",
    "print(new.name)\n",
    "print(new.price)\n",
    "print(new.year)\n",
    "\n",
    "corolla = Car(\"toyota corolla\", \"white\", \"toyota\", \"1800000\", \"2020\")\n",
    "city = Car(\"honda city\", \"black\", \"honda\", \"1200000\", \"2018\")\n",
    "mehran = Car(\"suzuki mehran\", \"gray\", \"suzuki\", \"800000\", \"2017\")\n",
    "audi = Car(\"Audi A1\", \"yellow\", \"Audi\", \"3800000\", \"2018\")\n",
    "\n",
    "new.newcar(\"bugatti chiron\")\n",
    "print(new.model, \"modified by method\")\n",
    "\n",
    "new.newcar2(\"bugatti\")\n",
    "print(new.name, \"modified by method\")\n",
    "\n",
    "new.newcar3(\"300000000\")\n",
    "print(new.price, \"modified by method\")"
   ]
  },
  {
   "cell_type": "code",
   "execution_count": null,
   "metadata": {},
   "outputs": [],
   "source": []
  },
  {
   "cell_type": "code",
   "execution_count": null,
   "metadata": {},
   "outputs": [],
   "source": []
  }
 ],
 "metadata": {
  "kernelspec": {
   "display_name": "Python 3",
   "language": "python",
   "name": "python3"
  },
  "language_info": {
   "codemirror_mode": {
    "name": "ipython",
    "version": 3
   },
   "file_extension": ".py",
   "mimetype": "text/x-python",
   "name": "python",
   "nbconvert_exporter": "python",
   "pygments_lexer": "ipython3",
   "version": "3.7.4"
  }
 },
 "nbformat": 4,
 "nbformat_minor": 2
}
