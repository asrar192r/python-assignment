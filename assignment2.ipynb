{
 "cells": [
  {
   "cell_type": "code",
   "execution_count": 3,
   "metadata": {},
   "outputs": [
    {
     "name": "stdout",
     "output_type": "stream",
     "text": [
      "Enter marks of the English   :67\n",
      "Enter marks of the Math      :77\n",
      "Enter marks of the Physics   :77\n",
      "Enter marks of the Chemistry:88\n",
      "Enter marks of the Pak Study  :99\n",
      "Grade: A\n"
     ]
    }
   ],
   "source": [
    "english=int(input(\"Enter marks of the English   :\"))\n",
    "maths=int(input(\"Enter marks of the Math      :\"))\n",
    "physics=int(input(\"Enter marks of the Physics   :\"))\n",
    "chemistry=int(input(\"Enter marks of the Chemistry:\"))\n",
    "islamiyat=int(input(\"Enter marks of the Pak Study  :\"))\n",
    "total=english+maths+physics+chemistry+islamiyat\n",
    "percent= (obtained / 500)*100\n",
    "if(percent>=80 and percent<=100):\n",
    "    print(\"Grade: A+\")\n",
    "elif(percent>=70 and percent<80):\n",
    "    print(\"Grade: A\")\n",
    "elif(percent>=60 and percent<70):\n",
    "    print(\"Grade: B\")\n",
    "elif(percent>=50 and percent<60):\n",
    "    print(\"Grade: C\")\n",
    "elif(percent>=40 and percent<50):\n",
    "    print(\"Grade: D\")\n",
    "else:\n",
    "    print(\"Fail\")\n"
   ]
  },
  {
   "cell_type": "code",
   "execution_count": 4,
   "metadata": {},
   "outputs": [
    {
     "name": "stdout",
     "output_type": "stream",
     "text": [
      "Enter any number:3\n",
      "The number is odd\n"
     ]
    }
   ],
   "source": [
    "n=int(input(\"Enter any number:\"))\n",
    "if(n%2==0):\n",
    "   print(\"The number is Even\")\n",
    "else:\n",
    "   print(\"The number is odd\")\n"
   ]
  },
  {
   "cell_type": "code",
   "execution_count": 6,
   "metadata": {},
   "outputs": [
    {
     "name": "stdout",
     "output_type": "stream",
     "text": [
      "The length of list is:  6\n"
     ]
    }
   ],
   "source": [
    "a = len([130,240,320,430,505,64]) \n",
    "print(\"The length of list is: \", a)"
   ]
  },
  {
   "cell_type": "code",
   "execution_count": 7,
   "metadata": {},
   "outputs": [
    {
     "name": "stdout",
     "output_type": "stream",
     "text": [
      "18\n"
     ]
    }
   ],
   "source": [
    "print(sum((1, 2, 3, 5, 7)))"
   ]
  },
  {
   "cell_type": "code",
   "execution_count": 8,
   "metadata": {},
   "outputs": [
    {
     "name": "stdout",
     "output_type": "stream",
     "text": [
      "Largest element is: 90\n"
     ]
    }
   ],
   "source": [
    "lst = [12,14,30,90,33,22]\n",
    "print(\"Largest element is:\", max(lst))"
   ]
  },
  {
   "cell_type": "code",
   "execution_count": 9,
   "metadata": {},
   "outputs": [
    {
     "name": "stdout",
     "output_type": "stream",
     "text": [
      "[1, 1, 2, 3]\n"
     ]
    }
   ],
   "source": [
    "lst = [1, 1, 2, 3, 5, 8, 13, 21, 34, 55, 89]\n",
    "lst2 = []\n",
    "for item in lst:\n",
    "    if item < 5: \n",
    "        lst2.append(item)\n",
    "print(lst2)"
   ]
  },
  {
   "cell_type": "code",
   "execution_count": null,
   "metadata": {},
   "outputs": [],
   "source": []
  }
 ],
 "metadata": {
  "kernelspec": {
   "display_name": "Python 3",
   "language": "python",
   "name": "python3"
  },
  "language_info": {
   "codemirror_mode": {
    "name": "ipython",
    "version": 3
   },
   "file_extension": ".py",
   "mimetype": "text/x-python",
   "name": "python",
   "nbconvert_exporter": "python",
   "pygments_lexer": "ipython3",
   "version": "3.7.4"
  }
 },
 "nbformat": 4,
 "nbformat_minor": 2
}
