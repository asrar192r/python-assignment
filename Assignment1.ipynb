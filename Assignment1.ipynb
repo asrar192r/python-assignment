{
 "cells": [
  {
   "cell_type": "code",
   "execution_count": 2,
   "metadata": {},
   "outputs": [
    {
     "name": "stdout",
     "output_type": "stream",
     "text": [
      "Twinkle,twnkle little star,\n",
      "\t how i wonder what u are!\n",
      "\t\t up above the world so high,\n",
      "\t\t like a dimmond in the sky.\n",
      " Twinkle,twinkle,little star,\n",
      "\t how i wonder what u are\n"
     ]
    }
   ],
   "source": [
    "print(\"Twinkle,twnkle little star,\\n\\t how i wonder what u are!\\n\\t\\t up above the world so high,\\n\\t\\t like a dimmond in the sky.\\n Twinkle,twinkle,little star,\\n\\t how i wonder what u are\")"
   ]
  },
  {
   "cell_type": "code",
   "execution_count": 4,
   "metadata": {},
   "outputs": [
    {
     "name": "stdout",
     "output_type": "stream",
     "text": [
      "the python version iam using is\n",
      "3.7.4 (default, Aug  9 2019, 18:34:13) [MSC v.1915 64 bit (AMD64)]\n"
     ]
    }
   ],
   "source": [
    "import sys\n",
    "print(\"the python version iam using is\")\n",
    "print(sys.version)"
   ]
  },
  {
   "cell_type": "code",
   "execution_count": 5,
   "metadata": {},
   "outputs": [
    {
     "name": "stdout",
     "output_type": "stream",
     "text": [
      "current date and time\n",
      "2019-11-19 05:15:23\n"
     ]
    }
   ],
   "source": [
    "import datetime\n",
    "now = datetime.datetime.now()\n",
    "print(\"current date and time\")\n",
    "print(now.strftime(\"%Y-%m-%d %H:%M:%S\"))"
   ]
  },
  {
   "cell_type": "code",
   "execution_count": 7,
   "metadata": {},
   "outputs": [
    {
     "name": "stdout",
     "output_type": "stream",
     "text": [
      "Enter the radius5\n",
      "78.5\n"
     ]
    }
   ],
   "source": [
    "a = int(input(\"Enter the radius\"))\n",
    "area = 3.14 * a *a\n",
    "print(area)"
   ]
  },
  {
   "cell_type": "code",
   "execution_count": 10,
   "metadata": {},
   "outputs": [
    {
     "name": "stdout",
     "output_type": "stream",
     "text": [
      "enter first nameAsrar\n",
      "enter last nameLarik\n",
      "Larik Asrar\n"
     ]
    }
   ],
   "source": [
    "\n",
    "first_name = input(\"enter first name\")\n",
    "last_name = input(\"enter last name\")\n",
    "print(last_name +' '+first_name)"
   ]
  },
  {
   "cell_type": "code",
   "execution_count": 11,
   "metadata": {},
   "outputs": [
    {
     "name": "stdout",
     "output_type": "stream",
     "text": [
      "enter first value5\n",
      "enter second value5\n",
      "10\n"
     ]
    }
   ],
   "source": [
    "a = int(input(\"enter first value\"))\n",
    "b = int(input(\"enter second value\"))\n",
    "print(a+b)"
   ]
  },
  {
   "cell_type": "code",
   "execution_count": null,
   "metadata": {},
   "outputs": [],
   "source": []
  }
 ],
 "metadata": {
  "kernelspec": {
   "display_name": "Python 3",
   "language": "python",
   "name": "python3"
  },
  "language_info": {
   "codemirror_mode": {
    "name": "ipython",
    "version": 3
   },
   "file_extension": ".py",
   "mimetype": "text/x-python",
   "name": "python",
   "nbconvert_exporter": "python",
   "pygments_lexer": "ipython3",
   "version": "3.7.4"
  }
 },
 "nbformat": 4,
 "nbformat_minor": 2
}
